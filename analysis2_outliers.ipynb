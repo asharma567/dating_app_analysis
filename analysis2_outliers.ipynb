{
 "cells": [
  {
   "cell_type": "markdown",
   "metadata": {},
   "source": [
    "Outlier Detection\n",
    "=====\n",
    "\n",
    "### What is an outlier?\n",
    "\n",
    "An outlier is an observation or a set of observations exceptionally far from the mainstream of data. It's either:\n",
    "1. an extreme case (Anomaly)\n",
    "2. an error eg typo, measuring error, etc (Noise)\n",
    "\n",
    "Typically, Analysts/Data Scientist are more interested in (1) Unless we just wanted cleanout Noise, which is also a common use case.\n",
    "\n",
    "### What to do with outliers?\n",
    "Depends on the business focus but here are some general routes:\n",
    "\n",
    "1. remove outliers to strengthen our model and/or insights \n",
    "2. study them for insight e.g. fix a measuring error, motivate changes to the model, blog post of a special case, etc.\n",
    "3. fraud detection\n",
    "\n",
    "The techniques used for this dataset are as follows--\n",
    "- Extreme value analysis\n",
    "- Information theory: PCA    \n",
    "- Dependency variable error\n",
    "\n",
    "\n",
    "__bottom line:__ finding outliers/anomalies often depends on the business interest. e.g. building a strong model where outliers just amount to a hinderance in performance vs. studying anomalous cases for insight.\n",
    "\n",
    "### next steps:\n",
    "- Clustering in this order:\n",
    "    1. Tsne to see how well the data clusters i.e. are they disparate data points or do they cluster well.\n",
    "    2. GMM\n",
    "    3. DBSCAN\n",
    "\n"
   ]
  },
  {
   "cell_type": "code",
   "execution_count": 1,
   "metadata": {
    "collapsed": false
   },
   "outputs": [
    {
     "data": {
      "text/html": [
       "<script>\n",
       "code_show=true; \n",
       "function code_toggle() {\n",
       " if (code_show){\n",
       " $('div.input').hide();\n",
       " } else {\n",
       " $('div.input').show();\n",
       " }\n",
       " code_show = !code_show\n",
       "} \n",
       "$( document ).ready(code_toggle);\n",
       "</script>\n",
       "<form action=\"javascript:code_toggle()\"><input type=\"submit\" value=\"Click here to toggle on/off the raw code.\"></form>"
      ],
      "text/plain": [
       "<IPython.core.display.HTML object>"
      ]
     },
     "execution_count": 1,
     "metadata": {},
     "output_type": "execute_result"
    }
   ],
   "source": [
    "from IPython.display import HTML\n",
    "\n",
    "HTML('''<script>\n",
    "code_show=true; \n",
    "function code_toggle() {\n",
    " if (code_show){\n",
    " $('div.input').hide();\n",
    " } else {\n",
    " $('div.input').show();\n",
    " }\n",
    " code_show = !code_show\n",
    "} \n",
    "$( document ).ready(code_toggle);\n",
    "</script>\n",
    "<form action=\"javascript:code_toggle()\"><input type=\"submit\" value=\"Click here to toggle on/off the raw code.\"></form>''')"
   ]
  },
  {
   "cell_type": "code",
   "execution_count": 2,
   "metadata": {
    "collapsed": true
   },
   "outputs": [],
   "source": [
    "%load_ext autoreload"
   ]
  },
  {
   "cell_type": "code",
   "execution_count": 3,
   "metadata": {
    "collapsed": true
   },
   "outputs": [],
   "source": [
    "%autoreload 2"
   ]
  },
  {
   "cell_type": "code",
   "execution_count": 4,
   "metadata": {
    "collapsed": false
   },
   "outputs": [
    {
     "name": "stdout",
     "output_type": "stream",
     "text": [
      "Populating the interactive namespace from numpy and matplotlib\n"
     ]
    }
   ],
   "source": [
    "import pandas as pd\n",
    "from sklearn.preprocessing import StandardScaler\n",
    "from sklearn.decomposition import PCA\n",
    "from sklearn.ensemble import RandomForestClassifier\n",
    "\n",
    "from helpers import plot_no_transformation, plot_optimal_number_of_components_variance\n",
    "from helpers import score_classifier\n",
    "\n",
    "import matplotlib.pyplot as plt\n",
    "%pylab inline\n",
    "plt.style.use('fivethirtyeight')\n",
    "\n",
    "\n",
    "import warnings\n",
    "warnings.filterwarnings('ignore')"
   ]
  },
  {
   "cell_type": "code",
   "execution_count": 5,
   "metadata": {
    "collapsed": true
   },
   "outputs": [],
   "source": [
    "df_ratings_sample = pd.read_csv('ratings_sample.tsv', sep='\\t')"
   ]
  },
  {
   "cell_type": "markdown",
   "metadata": {},
   "source": [
    "# Extreme value analysis\n",
    "\n",
    "__Boxplot --__\n",
    "Theoritically, anything above the top whisker (aprox 43) is an outlier given the distribution is gaussian-like. Though notice a very extreme case: 112 years old and nothing in between - seems suspicious.\n",
    "\n",
    "_This exercise should be repeated for all features though in interest of time, I've limited it to just this one_"
   ]
  },
  {
   "cell_type": "code",
   "execution_count": 6,
   "metadata": {
    "collapsed": false
   },
   "outputs": [
    {
     "name": "stdout",
     "output_type": "stream",
     "text": [
      "count    500763.000000\n",
      "mean         28.965531\n",
      "std           5.164825\n",
      "min          18.000000\n",
      "25%          25.000000\n",
      "50%          28.000000\n",
      "75%          32.000000\n",
      "max         112.000000\n",
      "dtype: float64\n",
      "skew --  1.2225473630024877\n",
      "kurtosis-- 3.7030868774085564\n"
     ]
    },
    {
     "data": {
      "image/png": "[encoded data removed]",
      "text/plain": [
       "<matplotlib.figure.Figure at 0x104e1f240>"
      ]
     },
     "metadata": {},
     "output_type": "display_data"
    },
    {
     "data": {
      "image/png": "[encoded data removed]",
      "text/plain": [
       "<matplotlib.figure.Figure at 0x10f94d6a0>"
      ]
     },
     "metadata": {},
     "output_type": "display_data"
    }
   ],
   "source": [
    "plot_no_transformation(list(df_ratings_sample.player_age))"
   ]
  },
  {
   "cell_type": "code",
   "execution_count": 7,
   "metadata": {
    "collapsed": false
   },
   "outputs": [
    {
     "data": {
      "text/html": [
       "<div>\n",
       "<table border=\"1\" class=\"dataframe\">\n",
       "  <thead>\n",
       "    <tr style=\"text-align: right;\">\n",
       "      <th></th>\n",
       "      <th>like</th>\n",
       "      <th>player_id</th>\n",
       "      <th>subject_id</th>\n",
       "      <th>player_age</th>\n",
       "      <th>player_height</th>\n",
       "      <th>player_age_max</th>\n",
       "      <th>player_age_min</th>\n",
       "      <th>player_distance_max</th>\n",
       "      <th>player_height_min</th>\n",
       "      <th>player_height_max</th>\n",
       "      <th>...</th>\n",
       "      <th>player_location</th>\n",
       "      <th>subject_gender_orientation</th>\n",
       "      <th>subject_hometown</th>\n",
       "      <th>subject_metro</th>\n",
       "      <th>subject_location</th>\n",
       "      <th>distance</th>\n",
       "      <th>player_saved</th>\n",
       "      <th>player_rated</th>\n",
       "      <th>subject_saved</th>\n",
       "      <th>subject_rated</th>\n",
       "    </tr>\n",
       "  </thead>\n",
       "  <tbody>\n",
       "    <tr>\n",
       "      <th>454904</th>\n",
       "      <td>0.0</td>\n",
       "      <td>01fc7aa7222451673b2804c97b0034ec0681f105</td>\n",
       "      <td>212adeb131102c365e07a7cca958895bfb3995a1</td>\n",
       "      <td>112</td>\n",
       "      <td>170</td>\n",
       "      <td>60</td>\n",
       "      <td>42</td>\n",
       "      <td>100</td>\n",
       "      <td>92</td>\n",
       "      <td>214</td>\n",
       "      <td>...</td>\n",
       "      <td>Regal_Heights</td>\n",
       "      <td>MS</td>\n",
       "      <td>Ottawa_Ontario</td>\n",
       "      <td>Toronto</td>\n",
       "      <td>Greektown</td>\n",
       "      <td>4.226219</td>\n",
       "      <td>0</td>\n",
       "      <td>0</td>\n",
       "      <td>0</td>\n",
       "      <td>107</td>\n",
       "    </tr>\n",
       "    <tr>\n",
       "      <th>454905</th>\n",
       "      <td>0.0</td>\n",
       "      <td>01fc7aa7222451673b2804c97b0034ec0681f105</td>\n",
       "      <td>96178849994686461c71eded66b22a4b0bf962b5</td>\n",
       "      <td>112</td>\n",
       "      <td>170</td>\n",
       "      <td>60</td>\n",
       "      <td>42</td>\n",
       "      <td>100</td>\n",
       "      <td>92</td>\n",
       "      <td>214</td>\n",
       "      <td>...</td>\n",
       "      <td>Regal_Heights</td>\n",
       "      <td>MS</td>\n",
       "      <td>Cornwall_Ontario</td>\n",
       "      <td>Other</td>\n",
       "      <td>Clairfields</td>\n",
       "      <td>39.918329</td>\n",
       "      <td>0</td>\n",
       "      <td>0</td>\n",
       "      <td>1</td>\n",
       "      <td>82</td>\n",
       "    </tr>\n",
       "    <tr>\n",
       "      <th>454906</th>\n",
       "      <td>0.0</td>\n",
       "      <td>01fc7aa7222451673b2804c97b0034ec0681f105</td>\n",
       "      <td>b15a265754b182df8ed2cd58d12c8c8e4c6cb2ce</td>\n",
       "      <td>112</td>\n",
       "      <td>170</td>\n",
       "      <td>60</td>\n",
       "      <td>42</td>\n",
       "      <td>100</td>\n",
       "      <td>92</td>\n",
       "      <td>214</td>\n",
       "      <td>...</td>\n",
       "      <td>Regal_Heights</td>\n",
       "      <td>MS</td>\n",
       "      <td>Colden_New_York</td>\n",
       "      <td>Buffalo</td>\n",
       "      <td>Chaffee</td>\n",
       "      <td>91.142046</td>\n",
       "      <td>0</td>\n",
       "      <td>0</td>\n",
       "      <td>0</td>\n",
       "      <td>54</td>\n",
       "    </tr>\n",
       "    <tr>\n",
       "      <th>454907</th>\n",
       "      <td>0.0</td>\n",
       "      <td>01fc7aa7222451673b2804c97b0034ec0681f105</td>\n",
       "      <td>6c17aec12b7c408ee8e708f220261becaa3ab728</td>\n",
       "      <td>112</td>\n",
       "      <td>170</td>\n",
       "      <td>60</td>\n",
       "      <td>42</td>\n",
       "      <td>100</td>\n",
       "      <td>92</td>\n",
       "      <td>214</td>\n",
       "      <td>...</td>\n",
       "      <td>Regal_Heights</td>\n",
       "      <td>MS</td>\n",
       "      <td>Buffalo_New_York</td>\n",
       "      <td>Washington_D.C.</td>\n",
       "      <td>Annandale</td>\n",
       "      <td>352.332185</td>\n",
       "      <td>0</td>\n",
       "      <td>0</td>\n",
       "      <td>2</td>\n",
       "      <td>77</td>\n",
       "    </tr>\n",
       "    <tr>\n",
       "      <th>454908</th>\n",
       "      <td>0.0</td>\n",
       "      <td>01fc7aa7222451673b2804c97b0034ec0681f105</td>\n",
       "      <td>73f153aad08fce26424ce0b04a80562a98af4057</td>\n",
       "      <td>112</td>\n",
       "      <td>170</td>\n",
       "      <td>60</td>\n",
       "      <td>42</td>\n",
       "      <td>100</td>\n",
       "      <td>92</td>\n",
       "      <td>214</td>\n",
       "      <td>...</td>\n",
       "      <td>Regal_Heights</td>\n",
       "      <td>MS</td>\n",
       "      <td>Hamilton_Ontario</td>\n",
       "      <td>Toronto</td>\n",
       "      <td>Thornhill</td>\n",
       "      <td>8.720684</td>\n",
       "      <td>0</td>\n",
       "      <td>0</td>\n",
       "      <td>5</td>\n",
       "      <td>190</td>\n",
       "    </tr>\n",
       "    <tr>\n",
       "      <th>454909</th>\n",
       "      <td>0.0</td>\n",
       "      <td>01fc7aa7222451673b2804c97b0034ec0681f105</td>\n",
       "      <td>33796aafc7f99f324442486c4b285a4f9bff6767</td>\n",
       "      <td>112</td>\n",
       "      <td>170</td>\n",
       "      <td>60</td>\n",
       "      <td>42</td>\n",
       "      <td>100</td>\n",
       "      <td>92</td>\n",
       "      <td>214</td>\n",
       "      <td>...</td>\n",
       "      <td>Regal_Heights</td>\n",
       "      <td>MS</td>\n",
       "      <td>Thornhill_Ontario</td>\n",
       "      <td>Toronto</td>\n",
       "      <td>Bracondale_Hill</td>\n",
       "      <td>0.309304</td>\n",
       "      <td>0</td>\n",
       "      <td>0</td>\n",
       "      <td>2</td>\n",
       "      <td>167</td>\n",
       "    </tr>\n",
       "    <tr>\n",
       "      <th>454910</th>\n",
       "      <td>0.0</td>\n",
       "      <td>01fc7aa7222451673b2804c97b0034ec0681f105</td>\n",
       "      <td>f407df1c89f7b1df1a330225eab42f5b1ecf851a</td>\n",
       "      <td>112</td>\n",
       "      <td>170</td>\n",
       "      <td>60</td>\n",
       "      <td>42</td>\n",
       "      <td>100</td>\n",
       "      <td>92</td>\n",
       "      <td>214</td>\n",
       "      <td>...</td>\n",
       "      <td>Regal_Heights</td>\n",
       "      <td>MS</td>\n",
       "      <td>Toronto_Ontario</td>\n",
       "      <td>Toronto</td>\n",
       "      <td>Pleasant_View</td>\n",
       "      <td>8.825765</td>\n",
       "      <td>0</td>\n",
       "      <td>0</td>\n",
       "      <td>11</td>\n",
       "      <td>105</td>\n",
       "    </tr>\n",
       "  </tbody>\n",
       "</table>\n",
       "<p>7 rows × 30 columns</p>\n",
       "</div>"
      ],
      "text/plain": [
       "        like                                 player_id  \\\n",
       "454904   0.0  01fc7aa7222451673b2804c97b0034ec0681f105   \n",
       "454905   0.0  01fc7aa7222451673b2804c97b0034ec0681f105   \n",
       "454906   0.0  01fc7aa7222451673b2804c97b0034ec0681f105   \n",
       "454907   0.0  01fc7aa7222451673b2804c97b0034ec0681f105   \n",
       "454908   0.0  01fc7aa7222451673b2804c97b0034ec0681f105   \n",
       "454909   0.0  01fc7aa7222451673b2804c97b0034ec0681f105   \n",
       "454910   0.0  01fc7aa7222451673b2804c97b0034ec0681f105   \n",
       "\n",
       "                                      subject_id  player_age  player_height  \\\n",
       "454904  212adeb131102c365e07a7cca958895bfb3995a1         112            170   \n",
       "454905  96178849994686461c71eded66b22a4b0bf962b5         112            170   \n",
       "454906  b15a265754b182df8ed2cd58d12c8c8e4c6cb2ce         112            170   \n",
       "454907  6c17aec12b7c408ee8e708f220261becaa3ab728         112            170   \n",
       "454908  73f153aad08fce26424ce0b04a80562a98af4057         112            170   \n",
       "454909  33796aafc7f99f324442486c4b285a4f9bff6767         112            170   \n",
       "454910  f407df1c89f7b1df1a330225eab42f5b1ecf851a         112            170   \n",
       "\n",
       "        player_age_max  player_age_min  player_distance_max  \\\n",
       "454904              60              42                  100   \n",
       "454905              60              42                  100   \n",
       "454906              60              42                  100   \n",
       "454907              60              42                  100   \n",
       "454908              60              42                  100   \n",
       "454909              60              42                  100   \n",
       "454910              60              42                  100   \n",
       "\n",
       "        player_height_min  player_height_max      ...       player_location  \\\n",
       "454904                 92                214      ...         Regal_Heights   \n",
       "454905                 92                214      ...         Regal_Heights   \n",
       "454906                 92                214      ...         Regal_Heights   \n",
       "454907                 92                214      ...         Regal_Heights   \n",
       "454908                 92                214      ...         Regal_Heights   \n",
       "454909                 92                214      ...         Regal_Heights   \n",
       "454910                 92                214      ...         Regal_Heights   \n",
       "\n",
       "        subject_gender_orientation   subject_hometown    subject_metro  \\\n",
       "454904                          MS     Ottawa_Ontario          Toronto   \n",
       "454905                          MS   Cornwall_Ontario            Other   \n",
       "454906                          MS    Colden_New_York          Buffalo   \n",
       "454907                          MS   Buffalo_New_York  Washington_D.C.   \n",
       "454908                          MS   Hamilton_Ontario          Toronto   \n",
       "454909                          MS  Thornhill_Ontario          Toronto   \n",
       "454910                          MS    Toronto_Ontario          Toronto   \n",
       "\n",
       "        subject_location    distance  player_saved player_rated subject_saved  \\\n",
       "454904         Greektown    4.226219             0            0             0   \n",
       "454905       Clairfields   39.918329             0            0             1   \n",
       "454906           Chaffee   91.142046             0            0             0   \n",
       "454907         Annandale  352.332185             0            0             2   \n",
       "454908         Thornhill    8.720684             0            0             5   \n",
       "454909   Bracondale_Hill    0.309304             0            0             2   \n",
       "454910     Pleasant_View    8.825765             0            0            11   \n",
       "\n",
       "       subject_rated  \n",
       "454904           107  \n",
       "454905            82  \n",
       "454906            54  \n",
       "454907            77  \n",
       "454908           190  \n",
       "454909           167  \n",
       "454910           105  \n",
       "\n",
       "[7 rows x 30 columns]"
      ]
     },
     "execution_count": 7,
     "metadata": {},
     "output_type": "execute_result"
    }
   ],
   "source": [
    "df_player_age_outliers = df_ratings_sample[df_ratings_sample.player_age == 112]\n",
    "df_player_age_outliers"
   ]
  },
  {
   "cell_type": "markdown",
   "metadata": {},
   "source": [
    "## Duplicate profiles\n",
    "\n",
    "Examining only the player attributes, it's just a single person. At first blush, it seemed as if this was a fraudulent case considering the distances from the subject however it could very well be a 112 year old woman seeking a (younger) companion."
   ]
  },
  {
   "cell_type": "code",
   "execution_count": 8,
   "metadata": {
    "collapsed": false
   },
   "outputs": [
    {
     "data": {
      "text/html": [
       "<div>\n",
       "<table border=\"1\" class=\"dataframe\">\n",
       "  <thead>\n",
       "    <tr style=\"text-align: right;\">\n",
       "      <th></th>\n",
       "      <th>454904</th>\n",
       "    </tr>\n",
       "  </thead>\n",
       "  <tbody>\n",
       "    <tr>\n",
       "      <th>player_id</th>\n",
       "      <td>01fc7aa7222451673b2804c97b0034ec0681f105</td>\n",
       "    </tr>\n",
       "    <tr>\n",
       "      <th>player_age</th>\n",
       "      <td>112</td>\n",
       "    </tr>\n",
       "    <tr>\n",
       "      <th>player_height</th>\n",
       "      <td>170</td>\n",
       "    </tr>\n",
       "    <tr>\n",
       "      <th>player_age_max</th>\n",
       "      <td>60</td>\n",
       "    </tr>\n",
       "    <tr>\n",
       "      <th>player_age_min</th>\n",
       "      <td>42</td>\n",
       "    </tr>\n",
       "    <tr>\n",
       "      <th>player_distance_max</th>\n",
       "      <td>100</td>\n",
       "    </tr>\n",
       "    <tr>\n",
       "      <th>player_height_min</th>\n",
       "      <td>92</td>\n",
       "    </tr>\n",
       "    <tr>\n",
       "      <th>player_height_max</th>\n",
       "      <td>214</td>\n",
       "    </tr>\n",
       "    <tr>\n",
       "      <th>player_gender_orientation</th>\n",
       "      <td>FS</td>\n",
       "    </tr>\n",
       "    <tr>\n",
       "      <th>player_hometown</th>\n",
       "      <td>Toronto_Ontario</td>\n",
       "    </tr>\n",
       "    <tr>\n",
       "      <th>player_metro</th>\n",
       "      <td>Toronto</td>\n",
       "    </tr>\n",
       "    <tr>\n",
       "      <th>player_location</th>\n",
       "      <td>Regal_Heights</td>\n",
       "    </tr>\n",
       "    <tr>\n",
       "      <th>player_saved</th>\n",
       "      <td>0</td>\n",
       "    </tr>\n",
       "    <tr>\n",
       "      <th>player_rated</th>\n",
       "      <td>0</td>\n",
       "    </tr>\n",
       "  </tbody>\n",
       "</table>\n",
       "</div>"
      ],
      "text/plain": [
       "                                                             454904\n",
       "player_id                  01fc7aa7222451673b2804c97b0034ec0681f105\n",
       "player_age                                                      112\n",
       "player_height                                                   170\n",
       "player_age_max                                                   60\n",
       "player_age_min                                                   42\n",
       "player_distance_max                                             100\n",
       "player_height_min                                                92\n",
       "player_height_max                                               214\n",
       "player_gender_orientation                                        FS\n",
       "player_hometown                                     Toronto_Ontario\n",
       "player_metro                                                Toronto\n",
       "player_location                                       Regal_Heights\n",
       "player_saved                                                      0\n",
       "player_rated                                                      0"
      ]
     },
     "execution_count": 8,
     "metadata": {},
     "output_type": "execute_result"
    }
   ],
   "source": [
    "player_only_features = [name for name in df_ratings_sample.columns if 'player' in name]\n",
    "df_player_age_outliers[player_only_features].drop_duplicates().T"
   ]
  },
  {
   "cell_type": "markdown",
   "metadata": {},
   "source": [
    "She seems to find interest in males from 42-60. it's interesting she has an age_max cap of 60. Begs the question why?"
   ]
  },
  {
   "cell_type": "code",
   "execution_count": 9,
   "metadata": {
    "collapsed": false
   },
   "outputs": [
    {
     "data": {
      "text/plain": [
       "454904    42\n",
       "454905    45\n",
       "454906    44\n",
       "454907    42\n",
       "454908    43\n",
       "454909    44\n",
       "454910    48\n",
       "Name: subject_age, dtype: int64"
      ]
     },
     "execution_count": 9,
     "metadata": {},
     "output_type": "execute_result"
    }
   ],
   "source": [
    "df_player_age_outliers.subject_age"
   ]
  },
  {
   "cell_type": "markdown",
   "metadata": {},
   "source": [
    "## Distances from subject\n",
    "\n",
    "Given the sparsity of users within this age range, it seems you'd have to travel a larger distance to find a match."
   ]
  },
  {
   "cell_type": "code",
   "execution_count": 10,
   "metadata": {
    "collapsed": false
   },
   "outputs": [
    {
     "data": {
      "text/plain": [
       "72.21064742857142"
      ]
     },
     "execution_count": 10,
     "metadata": {},
     "output_type": "execute_result"
    },
    {
     "data": {
      "image/png": "[encoded data removed]",
      "text/plain": [
       "<matplotlib.figure.Figure at 0x10fba1fd0>"
      ]
     },
     "metadata": {},
     "output_type": "display_data"
    }
   ],
   "source": [
    "df_player_age_outliers.distance.hist()\n",
    "df_player_age_outliers.distance.mean()"
   ]
  },
  {
   "cell_type": "markdown",
   "metadata": {},
   "source": [
    "# Information theory: PCA\n",
    "\n",
    "How compressable is the data? Another technique used to tell whether or not a dataset has outliers is to check how much redundant information it has. By theory, if it has a lot redundant information - there aren't many outliers - it'll compress well. \n",
    "\n",
    "In this example, we'll use PCA..\n",
    "\n"
   ]
  },
  {
   "cell_type": "code",
   "execution_count": 11,
   "metadata": {
    "collapsed": false
   },
   "outputs": [
    {
     "name": "stdout",
     "output_type": "stream",
     "text": [
      "number of components that explain target amt of variance explained: 16 @ 0.961780412622\n"
     ]
    },
    {
     "data": {
      "image/png": "[encoded data removed]",
      "text/plain": [
       "<matplotlib.figure.Figure at 0x103b0f588>"
      ]
     },
     "metadata": {},
     "output_type": "display_data"
    },
    {
     "data": {
      "image/png": "[encoded data removed]",
      "text/plain": [
       "<matplotlib.figure.Figure at 0x104aa7e80>"
      ]
     },
     "metadata": {},
     "output_type": "display_data"
    },
    {
     "data": {
      "text/plain": [
       "16"
      ]
     },
     "execution_count": 11,
     "metadata": {},
     "output_type": "execute_result"
    }
   ],
   "source": [
    "\n",
    "features = [\n",
    "    'player_age',\n",
    "    'player_height',\n",
    "    'player_age_max',\n",
    "    'player_age_min',\n",
    "    'player_distance_max',\n",
    "    'player_height_min',\n",
    "    'player_height_max',\n",
    "    'subject_age',\n",
    "    'subject_height',\n",
    "    'subject_age_max',\n",
    "    'subject_age_min',\n",
    "    'subject_distance_max',\n",
    "    'subject_height_min',\n",
    "    'subject_height_max',\n",
    "    'distance',\n",
    "    'player_saved',\n",
    "    'player_rated',\n",
    "    'subject_saved',\n",
    "    'subject_rated',\n",
    "]\n",
    "\n",
    "\n",
    "scaler = StandardScaler()\n",
    "scale_feature_collinear_feature_M = scaler.fit_transform(df_ratings_sample[features])\n",
    "\n",
    "THRESHOLD_FOR_VARIANCE_RETENTION = 0.95\n",
    "plot_optimal_number_of_components_variance(scale_feature_collinear_feature_M, THRESHOLD_FOR_VARIANCE_RETENTION)"
   ]
  },
  {
   "cell_type": "markdown",
   "metadata": {},
   "source": [
    "## Finding the number of components to retain\n",
    "\n",
    "Given that there are 19 total features and in order to retain 95% of the variance we can only lose 3 components, we can conclude the dataset is fairly disperse. It doesn't mean it necessarily has a lot of outliers but it means there isn't a lot of redundancy in the data.\n",
    "\n",
    "We can see this examining the scree plot just above. In a dataset that's highly compressable we would see a stark hockey stick like drop making a sharp angle (an elbow). It's at this point it's yields the optimal number of components to retain.\n",
    "\n",
    "Another method to figure out the number of components to retain is Kaiser's rule. It finds the point at which each additional components contribution to information (variance) is marginal. It's 91.7% indicated by the blue line.\n",
    "\n",
    "Potential next steps--\n",
    "\n",
    "1. Retain full number of components post transformation then find the centroid/medoid and compute distances of all examples from the centroid and score the furthest ones as outliers.\n",
    "2. Extreme Value Analysis - just like above - on each of the components and remove outliers.\n",
    "3. Using a wrapper function, find the optimal number of components to retain by model performance. That is, grid-search the number of components to retain. This method assumes our main concern is model performance and not intrepretation of causality from features.\n",
    "\n",
    "Pros: quick and dirty implementation possible with minimal analysis\n",
    "Cons: Loss of intrepretation of features say if you wanted to study outliers.\n",
    "\n",
    "__*Note, PCA is a function of features as opposed to examples/observations. Meaning it might better at pruning outliers from a feature's perspective vs distance from other examples.__"
   ]
  },
  {
   "cell_type": "markdown",
   "metadata": {},
   "source": [
    "# Dependency variable error\n",
    "\n",
    "This method involves fitting a model to the dataset and computing the prediction errors of all the examples originally trained on and inspecting the cases with the highest errors. Assuming the model's reliable, these cases of uncertaintly could be interesting for a variety of reasons at the minimum providing insight as to where the model's weak.\n"
   ]
  },
  {
   "cell_type": "code",
   "execution_count": 12,
   "metadata": {
    "collapsed": false
   },
   "outputs": [
    {
     "data": {
      "text/plain": [
       "(0.83261574188601062, 0.17553014100482664)"
      ]
     },
     "execution_count": 12,
     "metadata": {},
     "output_type": "execute_result"
    }
   ],
   "source": [
    "\n",
    "\n",
    "labels = df_ratings_sample.like == 1.0\n",
    "X = df_ratings_sample[features]\n",
    "\n",
    "rf = RandomForestClassifier(\n",
    "    n_jobs=-1, \n",
    "    class_weight='balanced_subsample', \n",
    "    random_state=40).fit(X, labels)\n",
    "\n",
    "mean_roc_auc_score = score_classifier(rf, X, labels)[0]\n",
    "mean_roc_auc_score, sum(labels)/len(labels)"
   ]
  },
  {
   "cell_type": "markdown",
   "metadata": {},
   "source": [
    "With Mean Roc AUC of 83 we can say the model's fairly discriminative (reliable). That is, the model's correct 83% of the time it makes a prediction. Though we have a class imbalance issue with likes only comprising 17.5% of the data.\n",
    "\n",
    "\n",
    "### How's the class imbalance addressed?\n",
    "- For purposes of speed, I'm adjusting the classweights to penalize missclassifications for the minority to be higher.\n",
    "- stratified bootstrap sampling for training trees.\n",
    "- stratified sampling without replacement for 5-fold cross validation.\n",
    "\n",
    "\n",
    "### Why is Random forest a good base model for this technique?\n",
    "- It handles outliers well, that is it maintains the attributes of tree based models which make it robust in discrimination while also being robust to outliers by design: An independent ensemble of Trees. This is superior to a sequential ensemble (Boosting) which is famed for best classifiers to date.\n",
    "- interpretability (see below)\n"
   ]
  },
  {
   "cell_type": "code",
   "execution_count": 13,
   "metadata": {
    "collapsed": false
   },
   "outputs": [
    {
     "data": {
      "text/plain": [
       "0.0    0.576928\n",
       "0.1    0.167886\n",
       "0.2    0.055352\n",
       "0.3    0.018528\n",
       "0.4    0.008333\n",
       "0.5    0.010290\n",
       "0.6    0.020153\n",
       "0.7    0.034384\n",
       "0.8    0.043699\n",
       "0.9    0.040991\n",
       "1.0    0.023456\n",
       "dtype: float64"
      ]
     },
     "execution_count": 13,
     "metadata": {},
     "output_type": "execute_result"
    },
    {
     "data": {
      "image/png": "[encoded data removed]",
      "text/plain": [
       "<matplotlib.figure.Figure at 0x11009de80>"
      ]
     },
     "metadata": {},
     "output_type": "display_data"
    }
   ],
   "source": [
    "scores = rf.predict_proba(X)\n",
    "probability_of_true = pd.Series(scores[:,1])\n",
    "probability_of_true.hist(bins=30)\n",
    "probability_of_true.value_counts(1).sort_index()"
   ]
  },
  {
   "cell_type": "markdown",
   "metadata": {},
   "source": [
    "We can see at 0.4 only 0.8% of examples fall into this area. This makes for a good starting point. Though the reality is we'd want to investigate everything from 0.4-0.6: \n",
    "1. classifier is on the fence with a decision\n",
    "2. it comprises a minority group\n",
    "\n",
    "A good starting point of investigation of such features is to use the feature importance plot showed in the previous analysis and figure out how/why the datapoints differ from the rest in the most important categories the model uses for it's prediction."
   ]
  },
  {
   "cell_type": "code",
   "execution_count": 14,
   "metadata": {
    "collapsed": false
   },
   "outputs": [
    {
     "data": {
      "image/png": "[encoded data removed]",
      "text/plain": [
       "<matplotlib.figure.Figure at 0x104a2e160>"
      ]
     },
     "metadata": {},
     "output_type": "display_data"
    }
   ],
   "source": [
    "f, (ax1, ax2, ax3) = plt.subplots(1, 3)\n",
    "\n",
    "cohort_idx = probability_of_true[probability_of_true == 0.0].index\n",
    "df_certain_false = X.ix[cohort_idx]\n",
    "df_certain_false.subject_saved.hist(bins=50, alpha=0.4, ax=ax1)\n",
    "df_certain_false.subject_rated.hist(bins=50, alpha=0.4, color='red', ax=ax1)\n",
    "\n",
    "\n",
    "cohort_idx = probability_of_true[probability_of_true == 0.4].index\n",
    "df_uncertain = X.ix[cohort_idx]\n",
    "df_uncertain.subject_saved.hist(bins=50, alpha=0.4, ax=ax2)\n",
    "df_uncertain.subject_rated.hist(bins=50, alpha=0.4, color='red', ax=ax2)\n",
    "\n",
    "\n",
    "cohort_idx = probability_of_true[probability_of_true == 1.0].index\n",
    "df_certain_false = X.ix[cohort_idx]\n",
    "df_certain_false.subject_saved.hist(bins=50, alpha=0.4, ax=ax3, label='saved')\n",
    "df_certain_false.subject_rated.hist(bins=50, alpha=0.4, color='red', ax=ax3, label='rated')\n",
    "plt.legend(loc=9, bbox_to_anchor=(0.5, -0.1), ncol=2)\n",
    "plt.suptitle('low-moderate-high chance of liking subject: saved/rated ratio')\n",
    "plt.tight_layout(pad=1.8)\n"
   ]
  },
  {
   "cell_type": "markdown",
   "metadata": {},
   "source": [
    "### Saved to Rated ratio\n",
    "\n",
    "The amount of the space the blue occupies vs red indicates subjects with a higher ratio tend have a higher chance of being liked. Not suprising but it's always nice to have supportive evidence of data.\n",
    "\n",
    "It also warns us of releasing a model trained on such patterns and consequences for those unpopular individuals. The same people will be recommended over and over - this isn't good policy for various reasons. To combat this a couple solutions come to mind: \n",
    "1. remove the feature altogether or down-weight the importance.\n",
    "2. ensemble models and limit the recommendations from this model. \n",
    "3. select a few subjects completely at random for a few slots in the recommendation.\n",
    "\n"
   ]
  },
  {
   "cell_type": "code",
   "execution_count": 15,
   "metadata": {
    "collapsed": false,
    "scrolled": false
   },
   "outputs": [
    {
     "data": {
      "text/plain": [
       "-0.9         1\n",
       "-0.8         5\n",
       "-0.7        24\n",
       "-0.6       113\n",
       "-0.5       609\n",
       "-0.4      2603\n",
       "-0.3      8889\n",
       "-0.2     27651\n",
       "-0.1     84065\n",
       " 0.0    300650\n",
       " 0.1     20526\n",
       " 0.2     21878\n",
       " 0.3     17194\n",
       " 0.4      9979\n",
       " 0.5      4544\n",
       " 0.6      1570\n",
       " 0.7       389\n",
       " 0.8        67\n",
       " 0.9         6\n",
       "Name: like, dtype: int64"
      ]
     },
     "execution_count": 15,
     "metadata": {},
     "output_type": "execute_result"
    },
    {
     "data": {
      "image/png": "[encoded data removed]",
      "text/plain": [
       "<matplotlib.figure.Figure at 0x104a1b588>"
      ]
     },
     "metadata": {},
     "output_type": "display_data"
    }
   ],
   "source": [
    "errors = pd.Series(labels.astype(float) - scores[:,1])\n",
    "errors.hist(bins=30)\n",
    "\n",
    "\n",
    "plt.suptitle('error plot')\n",
    "errors.value_counts().sort_index()"
   ]
  },
  {
   "cell_type": "markdown",
   "metadata": {},
   "source": [
    "This is an interesting case because the model was fairly certian this would be a \"like\" based on the pattern it's learned but that's clearly not the case.\n",
    "\n",
    "It's not clear as why this player didn't like this particular subject however, it does seem like the subject's new to the platform given she's only been rated 13 times. Maybe the model doesn't do well with new players on the platform. At a time_been_on_platform may solve this issue."
   ]
  },
  {
   "cell_type": "code",
   "execution_count": 16,
   "metadata": {
    "collapsed": false
   },
   "outputs": [
    {
     "name": "stdout",
     "output_type": "stream",
     "text": [
      "40734    0.9\n",
      "dtype: float64\n"
     ]
    },
    {
     "data": {
      "text/html": [
       "<div>\n",
       "<table border=\"1\" class=\"dataframe\">\n",
       "  <thead>\n",
       "    <tr style=\"text-align: right;\">\n",
       "      <th></th>\n",
       "      <th>40734</th>\n",
       "    </tr>\n",
       "  </thead>\n",
       "  <tbody>\n",
       "    <tr>\n",
       "      <th>like</th>\n",
       "      <td>0</td>\n",
       "    </tr>\n",
       "    <tr>\n",
       "      <th>player_id</th>\n",
       "      <td>f9d0c627287ed0f52fbf2c09fdc336c73931da3c</td>\n",
       "    </tr>\n",
       "    <tr>\n",
       "      <th>subject_id</th>\n",
       "      <td>e43761fd1f10b6fba0e804b9de9e8e494e03a7e1</td>\n",
       "    </tr>\n",
       "    <tr>\n",
       "      <th>player_age</th>\n",
       "      <td>34</td>\n",
       "    </tr>\n",
       "    <tr>\n",
       "      <th>player_height</th>\n",
       "      <td>185</td>\n",
       "    </tr>\n",
       "    <tr>\n",
       "      <th>player_age_max</th>\n",
       "      <td>33</td>\n",
       "    </tr>\n",
       "    <tr>\n",
       "      <th>player_age_min</th>\n",
       "      <td>28</td>\n",
       "    </tr>\n",
       "    <tr>\n",
       "      <th>player_distance_max</th>\n",
       "      <td>100</td>\n",
       "    </tr>\n",
       "    <tr>\n",
       "      <th>player_height_min</th>\n",
       "      <td>92</td>\n",
       "    </tr>\n",
       "    <tr>\n",
       "      <th>player_height_max</th>\n",
       "      <td>214</td>\n",
       "    </tr>\n",
       "    <tr>\n",
       "      <th>subject_age</th>\n",
       "      <td>29</td>\n",
       "    </tr>\n",
       "    <tr>\n",
       "      <th>subject_height</th>\n",
       "      <td>165</td>\n",
       "    </tr>\n",
       "    <tr>\n",
       "      <th>subject_age_max</th>\n",
       "      <td>35</td>\n",
       "    </tr>\n",
       "    <tr>\n",
       "      <th>subject_age_min</th>\n",
       "      <td>27</td>\n",
       "    </tr>\n",
       "    <tr>\n",
       "      <th>subject_distance_max</th>\n",
       "      <td>100</td>\n",
       "    </tr>\n",
       "    <tr>\n",
       "      <th>subject_height_min</th>\n",
       "      <td>92</td>\n",
       "    </tr>\n",
       "    <tr>\n",
       "      <th>subject_height_max</th>\n",
       "      <td>214</td>\n",
       "    </tr>\n",
       "    <tr>\n",
       "      <th>player_gender_orientation</th>\n",
       "      <td>MS</td>\n",
       "    </tr>\n",
       "    <tr>\n",
       "      <th>player_hometown</th>\n",
       "      <td>Halifax_Nova_Scotia</td>\n",
       "    </tr>\n",
       "    <tr>\n",
       "      <th>player_metro</th>\n",
       "      <td>Toronto</td>\n",
       "    </tr>\n",
       "    <tr>\n",
       "      <th>player_location</th>\n",
       "      <td>Greenwood_-_Coxwell</td>\n",
       "    </tr>\n",
       "    <tr>\n",
       "      <th>subject_gender_orientation</th>\n",
       "      <td>FS</td>\n",
       "    </tr>\n",
       "    <tr>\n",
       "      <th>subject_hometown</th>\n",
       "      <td>Halifax_Nova_Scotia</td>\n",
       "    </tr>\n",
       "    <tr>\n",
       "      <th>subject_metro</th>\n",
       "      <td>Toronto</td>\n",
       "    </tr>\n",
       "    <tr>\n",
       "      <th>subject_location</th>\n",
       "      <td>Old_Town</td>\n",
       "    </tr>\n",
       "    <tr>\n",
       "      <th>distance</th>\n",
       "      <td>2.46799</td>\n",
       "    </tr>\n",
       "    <tr>\n",
       "      <th>player_saved</th>\n",
       "      <td>14</td>\n",
       "    </tr>\n",
       "    <tr>\n",
       "      <th>player_rated</th>\n",
       "      <td>141</td>\n",
       "    </tr>\n",
       "    <tr>\n",
       "      <th>subject_saved</th>\n",
       "      <td>3</td>\n",
       "    </tr>\n",
       "    <tr>\n",
       "      <th>subject_rated</th>\n",
       "      <td>13</td>\n",
       "    </tr>\n",
       "  </tbody>\n",
       "</table>\n",
       "</div>"
      ],
      "text/plain": [
       "                                                               40734\n",
       "like                                                               0\n",
       "player_id                   f9d0c627287ed0f52fbf2c09fdc336c73931da3c\n",
       "subject_id                  e43761fd1f10b6fba0e804b9de9e8e494e03a7e1\n",
       "player_age                                                        34\n",
       "player_height                                                    185\n",
       "player_age_max                                                    33\n",
       "player_age_min                                                    28\n",
       "player_distance_max                                              100\n",
       "player_height_min                                                 92\n",
       "player_height_max                                                214\n",
       "subject_age                                                       29\n",
       "subject_height                                                   165\n",
       "subject_age_max                                                   35\n",
       "subject_age_min                                                   27\n",
       "subject_distance_max                                             100\n",
       "subject_height_min                                                92\n",
       "subject_height_max                                               214\n",
       "player_gender_orientation                                         MS\n",
       "player_hometown                                  Halifax_Nova_Scotia\n",
       "player_metro                                                 Toronto\n",
       "player_location                                  Greenwood_-_Coxwell\n",
       "subject_gender_orientation                                        FS\n",
       "subject_hometown                                 Halifax_Nova_Scotia\n",
       "subject_metro                                                Toronto\n",
       "subject_location                                            Old_Town\n",
       "distance                                                     2.46799\n",
       "player_saved                                                      14\n",
       "player_rated                                                     141\n",
       "subject_saved                                                      3\n",
       "subject_rated                                                     13"
      ]
     },
     "execution_count": 16,
     "metadata": {},
     "output_type": "execute_result"
    }
   ],
   "source": [
    "anomaly_idx = errors[errors == -0.9].index\n",
    "print (probability_of_true[anomaly_idx])\n",
    "df_ratings_sample.ix[anomaly_idx].T"
   ]
  },
  {
   "cell_type": "markdown",
   "metadata": {},
   "source": [
    "## Extensions of this technique:\n",
    "\n",
    "- __Voting committee__: using an ensemble of various other models trained on the same dataset, identify the examples which have the highest disagreeability among the classifiers.\n",
    "\n",
    "\n",
    "- __Attribute-wise Learning for Scoring Outliers (ALSO)__: Repeating this exercise, iterating through all variables as dependent. From learning weights to identify features which are most relevant. In addition, an analyst could supply an arbitrary weighting scheme.\n",
    "\n",
    "\n",
    "- __Insight__: given the binary nature of this problem, an analyst could easily figure out the causal factors relating likes such as the ratio up above but also point out rare cases which are exempt from main/trivial set of deciding factors. This is done by interpreting the decision path from the trained trees.\n"
   ]
  }
 ],
 "metadata": {
  "kernelspec": {
   "display_name": "Python 3",
   "language": "python",
   "name": "python3"
  },
  "language_info": {
   "codemirror_mode": {
    "name": "ipython",
    "version": 3
   },
   "file_extension": ".py",
   "mimetype": "text/x-python",
   "name": "python",
   "nbconvert_exporter": "python",
   "pygments_lexer": "ipython3",
   "version": "3.6.0"
  }
 },
 "nbformat": 4,
 "nbformat_minor": 2
}
